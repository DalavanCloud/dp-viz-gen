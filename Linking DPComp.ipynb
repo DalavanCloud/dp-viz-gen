{
 "cells": [
  {
   "cell_type": "code",
   "execution_count": 1,
   "metadata": {},
   "outputs": [
    {
     "name": "stdout",
     "output_type": "stream",
     "text": [
      "Per Query Average Absolute Error: 41.414366883\n",
      "Ouput Histogram [[ -3.93513942  -3.93513942  -3.93513942 ...,   0.31030241   9.61894512\n",
      "    9.61894512]\n",
      " [ -3.93513942  -3.93513942  -3.93513942 ...,   0.31030241   9.61894512\n",
      "    9.61894512]\n",
      " [ -3.93513942  -3.93513942  -3.93513942 ...,   0.31030241  -3.01084471\n",
      "   -3.01084471]\n",
      " ..., \n",
      " [  0.49352068   0.49352068   0.49352068 ...,   1.32603538  18.61612511\n",
      "   18.61612511]\n",
      " [ -2.83609223  -2.83609223   1.45991957 ...,  -6.70934296  -2.63294435\n",
      "   -2.63294435]\n",
      " [ -2.83609223  -2.83609223   1.45991957 ...,  -6.70934296  -2.63294435\n",
      "   -2.63294435]]\n"
     ]
    }
   ],
   "source": [
    "from __future__ import division\n",
    "from __future__ import print_function\n",
    "from dpcomp_core.algorithm import AG\n",
    "from dpcomp_core import dataset\n",
    "from dpcomp_core import util\n",
    "from dpcomp_core import workload\n",
    "import numpy as np\n",
    "'''\n",
    "An example execution of one single algorithm. \n",
    "'''\n",
    "\n",
    "domain = (32,32)\n",
    "epsilon = 0.1\n",
    "nickname = 'SF-CABS-E'\n",
    "sample = 1E4\n",
    "seed = 1\n",
    "shape_list = [(5,5),(10,10)]\n",
    "size = 1000\n",
    "\n",
    "# Instantiate algorithm\n",
    "a = AG.AG_engine(c=10, c2=5, alpha=.4)\n",
    "\n",
    "# Instantiate dataset\n",
    "d = dataset.DatasetSampledFromFile(nickname=nickname, \n",
    "                                     sample_to_scale=sample, \n",
    "                                     reduce_to_dom_shape=domain, \n",
    "                                     seed=111)\n",
    "\n",
    "# Instantiate workload\n",
    "w = workload.RandomRange(shape_list=shape_list, \n",
    "                         domain_shape=domain, \n",
    "                         size=size, \n",
    "                         seed=seed)\n",
    "\n",
    "# Calculate noisy estimate for x\n",
    "x = d.payload\n",
    "x_hat = a.Run(w, x, epsilon, seed)\n",
    "\n",
    "# Compute error between true x and noisy estimate\n",
    "diff = w.evaluate(x) - w.evaluate(x_hat)\n",
    "print('Per Query Average Absolute Error:', util.old_div(np.linalg.norm(diff,1), float(diff.size)))\n",
    "print('Ouput Histogram', x_hat)"
   ]
  },
  {
   "cell_type": "code",
   "execution_count": null,
   "metadata": {},
   "outputs": [],
   "source": []
  }
 ],
 "metadata": {
  "kernelspec": {
   "display_name": "Python 3",
   "language": "python",
   "name": "python3"
  },
  "language_info": {
   "codemirror_mode": {
    "name": "ipython",
    "version": 3
   },
   "file_extension": ".py",
   "mimetype": "text/x-python",
   "name": "python",
   "nbconvert_exporter": "python",
   "pygments_lexer": "ipython3",
   "version": "3.4.3"
  }
 },
 "nbformat": 4,
 "nbformat_minor": 2
}
