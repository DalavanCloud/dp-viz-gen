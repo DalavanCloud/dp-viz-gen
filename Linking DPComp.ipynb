{
 "cells": [
  {
   "cell_type": "code",
   "execution_count": 4,
   "metadata": {},
   "outputs": [
    {
     "name": "stdout",
     "output_type": "stream",
     "text": [
      "Per Query Average Absolute Error: 82.5326268131\n",
      "Ouput Histogram (256, 256)\n"
     ]
    }
   ],
   "source": [
    "from __future__ import division\n",
    "from __future__ import print_function\n",
    "from dpcomp_core.algorithm import identity\n",
    "from dpcomp_core import dataset\n",
    "from dpcomp_core import util\n",
    "from dpcomp_core import workload\n",
    "import numpy as np\n",
    "from decimal import Decimal\n",
    "import os\n",
    "'''\n",
    "An example execution of one single algorithm. \n",
    "'''\n",
    "\n",
    "domain = (256,256)\n",
    "epsilon = 1E-1\n",
    "nickname = 'BOS'\n",
    "sample = 1E8\n",
    "seed = 1\n",
    "shape_list = [(5,5),(10,10)]\n",
    "size = 1000\n",
    "\n",
    "# Instantiate algorithm\n",
    "a = identity.identity_engine()\n",
    "\n",
    "# Instantiate dataset\n",
    "d = dataset.DatasetSampledFromFile(nickname=nickname, \n",
    "                                     sample_to_scale=sample, \n",
    "                                     reduce_to_dom_shape=domain, \n",
    "                                     seed=111)\n",
    "\n",
    "# Instantiate workload\n",
    "w = workload.RandomRange(shape_list=shape_list, \n",
    "                         domain_shape=domain, \n",
    "                         size=size, \n",
    "                         seed=seed)\n",
    "\n",
    "# Calculate noisy estimate for x\n",
    "x = d.payload\n",
    "x_hat = a.Run(w, x, epsilon, seed)\n",
    "\n",
    "# Compute error between true x and noisy estimate\n",
    "diff = w.evaluate(x) - w.evaluate(x_hat)\n",
    "print('Per Query Average Absolute Error:', util.old_div(np.linalg.norm(diff,1), float(diff.size)))\n",
    "print('Ouput Histogram', x_hat.shape)\n",
    "\n",
    "outLocation = 'data/' + nickname +'/'\n",
    "if not os.path.exists(outLocation):\n",
    "    os.makedirs(outLocation)\n",
    "    \n",
    "outName =  \"out_\" + a.short_name + '_' + \"{:.1E}\".format(Decimal(sample)) + '_e' + \"{:.1E}\".format(Decimal(epsilon))\n",
    "\n",
    "np.save(outLocation + outName ,x_hat)\n",
    "np.save(outLocation + 'in_' + \"{:.1E}\".format(Decimal(sample)) ,x)"
   ]
  },
  {
   "cell_type": "code",
   "execution_count": null,
   "metadata": {},
   "outputs": [],
   "source": []
  }
 ],
 "metadata": {
  "kernelspec": {
   "display_name": "Python 3",
   "language": "python",
   "name": "python3"
  },
  "language_info": {
   "codemirror_mode": {
    "name": "ipython",
    "version": 3
   },
   "file_extension": ".py",
   "mimetype": "text/x-python",
   "name": "python",
   "nbconvert_exporter": "python",
   "pygments_lexer": "ipython3",
   "version": "3.4.3"
  }
 },
 "nbformat": 4,
 "nbformat_minor": 2
}
